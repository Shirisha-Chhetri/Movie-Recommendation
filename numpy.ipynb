{
 "cells": [
  {
   "cell_type": "code",
   "execution_count": 1,
   "id": "95ecada0-c8e0-4d63-ac8f-76a5db55bf43",
   "metadata": {},
   "outputs": [],
   "source": [
    "num =1"
   ]
  },
  {
   "cell_type": "code",
   "execution_count": 2,
   "id": "68a6d585-4574-488c-b2fe-15385cc73302",
   "metadata": {},
   "outputs": [
    {
     "name": "stdout",
     "output_type": "stream",
     "text": [
      "1\n"
     ]
    }
   ],
   "source": [
    "print(num)"
   ]
  },
  {
   "cell_type": "code",
   "execution_count": 4,
   "id": "65c4c786-1f3e-4944-8cd2-49612df549e2",
   "metadata": {},
   "outputs": [],
   "source": [
    "num1 =1\n",
    "num2 = 2"
   ]
  },
  {
   "cell_type": "code",
   "execution_count": 5,
   "id": "98adbfc9-2a17-47f9-a4f2-775cddfcbee1",
   "metadata": {},
   "outputs": [
    {
     "name": "stdout",
     "output_type": "stream",
     "text": [
      "1\n",
      "2\n"
     ]
    }
   ],
   "source": [
    "print(num1)\n",
    "print(num2)"
   ]
  },
  {
   "cell_type": "code",
   "execution_count": 6,
   "id": "1433e7d3-4e99-47c1-ae70-f0b9525c5b5c",
   "metadata": {},
   "outputs": [],
   "source": [
    "import numpy as np"
   ]
  },
  {
   "cell_type": "code",
   "execution_count": 8,
   "id": "50928fad-7ce9-4108-acc5-dc9fdc68f8ed",
   "metadata": {},
   "outputs": [],
   "source": [
    "arr1 = np.array([1,2,3,4])"
   ]
  },
  {
   "cell_type": "code",
   "execution_count": 9,
   "id": "9dc52de3-bf5f-4c8d-b287-40308dfeda43",
   "metadata": {},
   "outputs": [
    {
     "data": {
      "text/plain": [
       "array([1, 2, 3, 4])"
      ]
     },
     "execution_count": 9,
     "metadata": {},
     "output_type": "execute_result"
    }
   ],
   "source": [
    "arr1"
   ]
  },
  {
   "cell_type": "code",
   "execution_count": 10,
   "id": "81cb8b51-9e68-4005-a9f7-1ce4cced885c",
   "metadata": {},
   "outputs": [
    {
     "data": {
      "text/plain": [
       "(4,)"
      ]
     },
     "execution_count": 10,
     "metadata": {},
     "output_type": "execute_result"
    }
   ],
   "source": [
    "arr1.shape"
   ]
  },
  {
   "cell_type": "code",
   "execution_count": 12,
   "id": "d9d05833-5ea8-4e82-b62f-009cb66b2f34",
   "metadata": {},
   "outputs": [],
   "source": [
    "arr2 = np.array([[1,2],[3,5]])"
   ]
  },
  {
   "cell_type": "code",
   "execution_count": 13,
   "id": "511b0d25-7379-4912-b83b-2a83c89a1941",
   "metadata": {},
   "outputs": [
    {
     "data": {
      "text/plain": [
       "(2, 2)"
      ]
     },
     "execution_count": 13,
     "metadata": {},
     "output_type": "execute_result"
    }
   ],
   "source": [
    "arr2.shape"
   ]
  },
  {
   "cell_type": "code",
   "execution_count": 15,
   "id": "fc478e97-4766-402e-a834-24d17867686f",
   "metadata": {},
   "outputs": [],
   "source": [
    "arr3 = np.array([1.1,2,3.4],dtype = np.float32)"
   ]
  },
  {
   "cell_type": "code",
   "execution_count": 16,
   "id": "8e859bdc-b298-40d2-a5ca-3a80d35376b3",
   "metadata": {},
   "outputs": [
    {
     "data": {
      "text/plain": [
       "array([1.1, 2. , 3.4], dtype=float32)"
      ]
     },
     "execution_count": 16,
     "metadata": {},
     "output_type": "execute_result"
    }
   ],
   "source": [
    "arr3"
   ]
  },
  {
   "cell_type": "code",
   "execution_count": 19,
   "id": "81acf065-dc77-4343-a3ce-3075c8683738",
   "metadata": {},
   "outputs": [],
   "source": [
    "arr4 = np.array([1,2.3,3.4,6],dtype = np.int32)"
   ]
  },
  {
   "cell_type": "code",
   "execution_count": 20,
   "id": "d51b4059-c69b-42aa-88d8-9be2e0178529",
   "metadata": {},
   "outputs": [
    {
     "data": {
      "text/plain": [
       "array([1, 2, 3, 6])"
      ]
     },
     "execution_count": 20,
     "metadata": {},
     "output_type": "execute_result"
    }
   ],
   "source": [
    "arr4"
   ]
  },
  {
   "cell_type": "code",
   "execution_count": 26,
   "id": "1faccc79-90c9-49e3-8eaf-c27c719002f0",
   "metadata": {},
   "outputs": [],
   "source": [
    "arr5 = arr4.reshape(2,2)"
   ]
  },
  {
   "cell_type": "code",
   "execution_count": 27,
   "id": "da18813b-feee-4cd2-b8c0-6528c027333a",
   "metadata": {},
   "outputs": [
    {
     "data": {
      "text/plain": [
       "array([[1, 2],\n",
       "       [3, 6]])"
      ]
     },
     "execution_count": 27,
     "metadata": {},
     "output_type": "execute_result"
    }
   ],
   "source": [
    "arr5"
   ]
  },
  {
   "cell_type": "code",
   "execution_count": 28,
   "id": "e7ad2ca2-7ddd-4f83-bd13-cdf279ffd33c",
   "metadata": {},
   "outputs": [],
   "source": [
    "arr6 = arr5.reshape(4)"
   ]
  },
  {
   "cell_type": "code",
   "execution_count": 29,
   "id": "4dd2479c-7dc6-4bd4-b63e-8d63688544c5",
   "metadata": {},
   "outputs": [
    {
     "data": {
      "text/plain": [
       "array([1, 2, 3, 6])"
      ]
     },
     "execution_count": 29,
     "metadata": {},
     "output_type": "execute_result"
    }
   ],
   "source": [
    "arr6"
   ]
  },
  {
   "cell_type": "code",
   "execution_count": 30,
   "id": "3d6bd649-33f5-4563-bb26-0d670fa93ab5",
   "metadata": {},
   "outputs": [],
   "source": [
    "arr7  = np.zeros(5)"
   ]
  },
  {
   "cell_type": "code",
   "execution_count": 31,
   "id": "84a76ab7-096b-47ac-98f3-e8846e1135bf",
   "metadata": {},
   "outputs": [
    {
     "data": {
      "text/plain": [
       "array([0., 0., 0., 0., 0.])"
      ]
     },
     "execution_count": 31,
     "metadata": {},
     "output_type": "execute_result"
    }
   ],
   "source": [
    "arr7"
   ]
  },
  {
   "cell_type": "code",
   "execution_count": 32,
   "id": "a702f2aa-4631-450c-af11-b531b2b166ba",
   "metadata": {},
   "outputs": [],
   "source": [
    "arr8 = np.ones(1)"
   ]
  },
  {
   "cell_type": "code",
   "execution_count": 33,
   "id": "5508b0a6-0663-4323-a259-2997122ce933",
   "metadata": {},
   "outputs": [
    {
     "data": {
      "text/plain": [
       "array([1.])"
      ]
     },
     "execution_count": 33,
     "metadata": {},
     "output_type": "execute_result"
    }
   ],
   "source": [
    "arr8"
   ]
  },
  {
   "cell_type": "code",
   "execution_count": 34,
   "id": "d8a95105-b41b-409c-a078-c01a546a436e",
   "metadata": {},
   "outputs": [
    {
     "data": {
      "text/plain": [
       "array([1., 1., 1., 1.])"
      ]
     },
     "execution_count": 34,
     "metadata": {},
     "output_type": "execute_result"
    }
   ],
   "source": [
    "np.ones(4)"
   ]
  },
  {
   "cell_type": "code",
   "execution_count": 35,
   "id": "ab2ab07b-6562-4a39-a62d-1265a12e4ecd",
   "metadata": {},
   "outputs": [
    {
     "data": {
      "text/plain": [
       "array([4, 4, 4, 4, 4])"
      ]
     },
     "execution_count": 35,
     "metadata": {},
     "output_type": "execute_result"
    }
   ],
   "source": [
    "np.full(5,4)"
   ]
  },
  {
   "cell_type": "code",
   "execution_count": 36,
   "id": "1739f9a3-0783-4e67-aa3c-991a0b1f0cb1",
   "metadata": {},
   "outputs": [
    {
     "data": {
      "text/plain": [
       "array([[4, 4, 4, 4, 4],\n",
       "       [4, 4, 4, 4, 4],\n",
       "       [4, 4, 4, 4, 4],\n",
       "       [4, 4, 4, 4, 4],\n",
       "       [4, 4, 4, 4, 4]])"
      ]
     },
     "execution_count": 36,
     "metadata": {},
     "output_type": "execute_result"
    }
   ],
   "source": [
    "np.full((5,5),4)"
   ]
  },
  {
   "cell_type": "code",
   "execution_count": 38,
   "id": "646627d5-272c-4ef1-96de-be0f95914d8d",
   "metadata": {},
   "outputs": [],
   "source": [
    "arr9 = np.array([[1,2,3,4],[5,6,7,8]])"
   ]
  },
  {
   "cell_type": "code",
   "execution_count": 39,
   "id": "e7e5b022-c4ba-44f5-b403-2729208e67a7",
   "metadata": {},
   "outputs": [
    {
     "data": {
      "text/plain": [
       "array([[1, 2, 3, 4],\n",
       "       [5, 6, 7, 8]])"
      ]
     },
     "execution_count": 39,
     "metadata": {},
     "output_type": "execute_result"
    }
   ],
   "source": [
    "arr9"
   ]
  },
  {
   "cell_type": "code",
   "execution_count": 40,
   "id": "dd0e122f-a7be-413b-9199-ad19052dbe0c",
   "metadata": {},
   "outputs": [
    {
     "data": {
      "text/plain": [
       "36"
      ]
     },
     "execution_count": 40,
     "metadata": {},
     "output_type": "execute_result"
    }
   ],
   "source": [
    "arr9.sum()"
   ]
  },
  {
   "cell_type": "code",
   "execution_count": 42,
   "id": "ca32807f-6338-4386-b821-618b121cac0a",
   "metadata": {},
   "outputs": [
    {
     "data": {
      "text/plain": [
       "array([10, 26])"
      ]
     },
     "execution_count": 42,
     "metadata": {},
     "output_type": "execute_result"
    }
   ],
   "source": [
    "arr9.sum(axis = 1)"
   ]
  },
  {
   "cell_type": "code",
   "execution_count": 43,
   "id": "8da17cf9-4ced-41de-a609-9c6a6917c0cb",
   "metadata": {},
   "outputs": [
    {
     "data": {
      "text/plain": [
       "array([ 6,  8, 10, 12])"
      ]
     },
     "execution_count": 43,
     "metadata": {},
     "output_type": "execute_result"
    }
   ],
   "source": [
    "arr9.sum(axis = 0)"
   ]
  },
  {
   "cell_type": "code",
   "execution_count": 44,
   "id": "ee4d40d7-57a4-4df5-b05e-a97b74391dc7",
   "metadata": {},
   "outputs": [
    {
     "data": {
      "text/plain": [
       "array([2.5, 6.5])"
      ]
     },
     "execution_count": 44,
     "metadata": {},
     "output_type": "execute_result"
    }
   ],
   "source": [
    "arr9.mean(axis = 1)"
   ]
  },
  {
   "cell_type": "code",
   "execution_count": null,
   "id": "ad62bd94-420b-49a1-af64-d9624d41a8ee",
   "metadata": {},
   "outputs": [],
   "source": []
  }
 ],
 "metadata": {
  "kernelspec": {
   "display_name": "Python 3 (ipykernel)",
   "language": "python",
   "name": "python3"
  },
  "language_info": {
   "codemirror_mode": {
    "name": "ipython",
    "version": 3
   },
   "file_extension": ".py",
   "mimetype": "text/x-python",
   "name": "python",
   "nbconvert_exporter": "python",
   "pygments_lexer": "ipython3",
   "version": "3.9.5"
  }
 },
 "nbformat": 4,
 "nbformat_minor": 5
}
