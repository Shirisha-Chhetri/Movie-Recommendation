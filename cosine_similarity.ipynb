{
 "cells": [
  {
   "cell_type": "code",
   "execution_count": 3,
   "id": "2347331e-8883-440d-8e16-98cef0444846",
   "metadata": {},
   "outputs": [],
   "source": [
    "from sklearn.feature_extraction.text import CountVectorizer\n",
    "from sklearn.metrics.pairwise import cosine_similarity"
   ]
  },
  {
   "cell_type": "code",
   "execution_count": 4,
   "id": "cdfe35fb-1363-4f60-ab17-97e63dedaea4",
   "metadata": {},
   "outputs": [],
   "source": [
    "sentences = ['Action Movie','Action Tv show','Horror Movie','Horror tv show']"
   ]
  },
  {
   "cell_type": "code",
   "execution_count": 5,
   "id": "f7f5055e-9177-4acb-b095-b6144892ece6",
   "metadata": {},
   "outputs": [],
   "source": [
    "cv = CountVectorizer()"
   ]
  },
  {
   "cell_type": "code",
   "execution_count": 6,
   "id": "d35879ae-bd7d-4f8a-bc0e-3202d330f87a",
   "metadata": {},
   "outputs": [],
   "source": [
    "count_matrix = cv.fit_transform(sentences)"
   ]
  },
  {
   "cell_type": "code",
   "execution_count": 7,
   "id": "46062c84-b72b-4c71-9aa3-cfc27df1e63e",
   "metadata": {},
   "outputs": [
    {
     "data": {
      "text/plain": [
       "array([[1, 0, 1, 0, 0],\n",
       "       [1, 0, 0, 1, 1],\n",
       "       [0, 1, 1, 0, 0],\n",
       "       [0, 1, 0, 1, 1]], dtype=int64)"
      ]
     },
     "execution_count": 7,
     "metadata": {},
     "output_type": "execute_result"
    }
   ],
   "source": [
    "count_matrix.toarray()"
   ]
  },
  {
   "cell_type": "code",
   "execution_count": 8,
   "id": "b222c11a-9ada-4b2e-a700-37351d9a2e66",
   "metadata": {},
   "outputs": [],
   "source": [
    "cosine_sum = cosine_similarity(count_matrix)"
   ]
  },
  {
   "cell_type": "code",
   "execution_count": 10,
   "id": "4cdfcdc8-9e44-4713-9b70-7ae43a467a14",
   "metadata": {},
   "outputs": [
    {
     "data": {
      "text/plain": [
       "array([[1.        , 0.40824829, 0.5       , 0.        ],\n",
       "       [0.40824829, 1.        , 0.        , 0.66666667],\n",
       "       [0.5       , 0.        , 1.        , 0.40824829],\n",
       "       [0.        , 0.66666667, 0.40824829, 1.        ]])"
      ]
     },
     "execution_count": 10,
     "metadata": {},
     "output_type": "execute_result"
    }
   ],
   "source": [
    "cosine_sum"
   ]
  },
  {
   "cell_type": "code",
   "execution_count": 11,
   "id": "41f7b799-6086-4131-8916-e269e60df050",
   "metadata": {},
   "outputs": [],
   "source": [
    "sentence_data = cosine_sum[0]"
   ]
  },
  {
   "cell_type": "code",
   "execution_count": 12,
   "id": "b6fa7de2-f453-4e33-b31c-687bf8226792",
   "metadata": {},
   "outputs": [
    {
     "data": {
      "text/plain": [
       "array([1.        , 0.40824829, 0.5       , 0.        ])"
      ]
     },
     "execution_count": 12,
     "metadata": {},
     "output_type": "execute_result"
    }
   ],
   "source": [
    "sentence_data"
   ]
  },
  {
   "cell_type": "code",
   "execution_count": 15,
   "id": "357551a3-9707-415f-af3a-1a7fa5be6999",
   "metadata": {},
   "outputs": [],
   "source": [
    "enumerate_data = enumerate(sentence_data)"
   ]
  },
  {
   "cell_type": "code",
   "execution_count": 17,
   "id": "c21eac26-1caf-49ff-94f2-0f08f89a5b17",
   "metadata": {},
   "outputs": [
    {
     "data": {
      "text/plain": [
       "<enumerate at 0x221f9aa0d80>"
      ]
     },
     "execution_count": 17,
     "metadata": {},
     "output_type": "execute_result"
    }
   ],
   "source": [
    "enumerate_data"
   ]
  },
  {
   "cell_type": "code",
   "execution_count": 18,
   "id": "7184e979-afc4-4654-8726-2c7ab08490e6",
   "metadata": {},
   "outputs": [],
   "source": [
    "list_data = list(enumerate_data)"
   ]
  },
  {
   "cell_type": "code",
   "execution_count": 19,
   "id": "514ea9e1-daa4-4875-87b2-73173092626a",
   "metadata": {},
   "outputs": [
    {
     "data": {
      "text/plain": [
       "[(0, 0.9999999999999998),\n",
       " (1, 0.408248290463863),\n",
       " (2, 0.4999999999999999),\n",
       " (3, 0.0)]"
      ]
     },
     "execution_count": 19,
     "metadata": {},
     "output_type": "execute_result"
    }
   ],
   "source": [
    "list_data"
   ]
  },
  {
   "cell_type": "code",
   "execution_count": 20,
   "id": "740da1d4-eb50-4d1f-8060-79ff927fe02d",
   "metadata": {},
   "outputs": [],
   "source": [
    "sorted_list= sorted(list_data, key = lambda x:x[1],reverse = True)"
   ]
  },
  {
   "cell_type": "code",
   "execution_count": 21,
   "id": "c88387da-05e1-47fa-9c41-3a576ff18c3c",
   "metadata": {},
   "outputs": [
    {
     "data": {
      "text/plain": [
       "[(0, 0.9999999999999998),\n",
       " (2, 0.4999999999999999),\n",
       " (1, 0.408248290463863),\n",
       " (3, 0.0)]"
      ]
     },
     "execution_count": 21,
     "metadata": {},
     "output_type": "execute_result"
    }
   ],
   "source": [
    "sorted_list"
   ]
  },
  {
   "cell_type": "code",
   "execution_count": 22,
   "id": "b013312a-976b-4cb3-ae07-ae26637aee5c",
   "metadata": {},
   "outputs": [
    {
     "data": {
      "text/plain": [
       "(2, 0.4999999999999999)"
      ]
     },
     "execution_count": 22,
     "metadata": {},
     "output_type": "execute_result"
    }
   ],
   "source": [
    "sorted_list[1]"
   ]
  },
  {
   "cell_type": "code",
   "execution_count": 23,
   "id": "c41c076e-c294-4e74-a81c-8500edca1516",
   "metadata": {},
   "outputs": [
    {
     "data": {
      "text/plain": [
       "2"
      ]
     },
     "execution_count": 23,
     "metadata": {},
     "output_type": "execute_result"
    }
   ],
   "source": [
    "sorted_list[1][0]"
   ]
  },
  {
   "cell_type": "code",
   "execution_count": 25,
   "id": "e43c539e-9161-48ee-aaa9-e4d8ff75a388",
   "metadata": {},
   "outputs": [],
   "source": [
    "nearest_sentence = sorted_list[1][0]"
   ]
  },
  {
   "cell_type": "code",
   "execution_count": 27,
   "id": "a66612bc-54db-46d3-9d8c-4fe69165e968",
   "metadata": {},
   "outputs": [
    {
     "data": {
      "text/plain": [
       "'Horror Movie'"
      ]
     },
     "execution_count": 27,
     "metadata": {},
     "output_type": "execute_result"
    }
   ],
   "source": [
    "sentences[nearest_sentence]"
   ]
  },
  {
   "cell_type": "code",
   "execution_count": null,
   "id": "fcfb600a-2b99-45f8-bd2d-d51630bf20c2",
   "metadata": {},
   "outputs": [],
   "source": []
  }
 ],
 "metadata": {
  "kernelspec": {
   "display_name": "Python 3 (ipykernel)",
   "language": "python",
   "name": "python3"
  },
  "language_info": {
   "codemirror_mode": {
    "name": "ipython",
    "version": 3
   },
   "file_extension": ".py",
   "mimetype": "text/x-python",
   "name": "python",
   "nbconvert_exporter": "python",
   "pygments_lexer": "ipython3",
   "version": "3.9.5"
  }
 },
 "nbformat": 4,
 "nbformat_minor": 5
}
